{
 "cells": [
  {
   "cell_type": "code",
   "execution_count": null,
   "metadata": {},
   "outputs": [],
   "source": [
    "from azure.cosmos import CosmosClient, PartitionKey\n",
    "from dotenv import dotenv_values\n",
    "import json"
   ]
  },
  {
   "cell_type": "code",
   "execution_count": null,
   "metadata": {},
   "outputs": [],
   "source": [
    "env_name = \"config.env\" # following example.env template change to your own .env file name\n",
    "config = dotenv_values(env_name)\n",
    "\n",
    "cosmos_conn = config['cosmos_nosql_connection_string']\n",
    "cosmos_key = config['cosmos_nosql_key']\n",
    "cosmos_database = config['cosmos_database_name']\n",
    "collection = config['cosmos_collection_name']"
   ]
  },
  {
   "cell_type": "markdown",
   "metadata": {},
   "source": [
    "# Create the client, db, collection, and policies"
   ]
  },
  {
   "cell_type": "code",
   "execution_count": null,
   "metadata": {},
   "outputs": [],
   "source": [
    "client = CosmosClient(cosmos_conn, credential=cosmos_key)"
   ]
  },
  {
   "cell_type": "code",
   "execution_count": null,
   "metadata": {},
   "outputs": [],
   "source": [
    "db = client.create_database_if_not_exists(cosmos_database)"
   ]
  },
  {
   "cell_type": "code",
   "execution_count": null,
   "metadata": {},
   "outputs": [],
   "source": [
    "# Define computed properties\n",
    "computed_properties = [\n",
    "    {'name': \"cp_overviewLower\", 'query': \"SELECT VALUE LOWER(c.overview) FROM c\"}, \n",
    "    {'name': \"cp_overviewLength\",'query': \"SELECT VALUE LENGTH(c.overview) FROM c\"},\n",
    "    {'name': \"cp_genreCount\",'query': 'SELECT VALUE ARRAY_LENGTH(c.genres) FROM c'},\n",
    "    {'name': \"cp_toVectorize\",'query': 'SELECT VALUE CONCAT(\"The movie: \", c.original_title, \" is about this: \", c.overview, \" and was released on: \", c.release_date) FROM c'}\n",
    "    ]\n",
    "\n",
    "indexing_policy = {\n",
    "   \"includedPaths\": [\n",
    "        {\n",
    "            \"path\": \"/*\"\n",
    "        },\n",
    "        {   \n",
    "            \"path\": \"/cp_overviewLower/?\"\n",
    "        },\n",
    "        {\n",
    "            \"path\": \"/cp_overviewLength/?\"\n",
    "        },\n",
    "        {\n",
    "            \"path\": \"/cp_toVectorize/?\"\n",
    "        },\n",
    "        {\n",
    "            \"path\": \"/cp_genreCount/?\"\n",
    "        }\n",
    "      ],\n",
    "      \"excludedPaths\": [\n",
    "        {\n",
    "            \"path\": \"/\\\"_etag\\\"/?\"\n",
    "        }\n",
    "      ]\n",
    "} \n",
    "\n",
    "container = db.create_container_if_not_exists(id=collection,\n",
    "                                                 partition_key=PartitionKey(path='/id'),\n",
    "                                                 computed_properties=computed_properties,\n",
    "                                                 indexing_policy=indexing_policy,\n",
    "                                                 offer_throughput=1000)"
   ]
  },
  {
   "cell_type": "markdown",
   "metadata": {},
   "source": [
    "# Insert data into the collection"
   ]
  },
  {
   "cell_type": "code",
   "execution_count": null,
   "metadata": {},
   "outputs": [],
   "source": [
    "# Load the data file\n",
    "data =[]\n",
    "with open('MovieLens-4489-256D.json', 'r') as d:\n",
    "    data = json.load(d)"
   ]
  },
  {
   "cell_type": "code",
   "execution_count": null,
   "metadata": {},
   "outputs": [],
   "source": [
    "counter = 0\n",
    "for item in data:\n",
    "    #The following code to create vector embeddings for the data is commented out as the sample data is already vectorized.\n",
    "    #vectorArray = generate_embeddings(\"Title:\" + data[i]['original_title'] + \", Tagline:\" + data[i]['tagline'] + \", Overview:\" + data[i]['overview'])\n",
    "    #object[cosmos_vector_property] = vectorArray\n",
    "    container.upsert_item(body=item)\n",
    "\n",
    "    # print progress every 100 upserts. \n",
    "    counter += 1\n",
    "    if counter % 100 == 0:\n",
    "            print(\"Inserted {} documents into collection.\".format(counter))"
   ]
  },
  {
   "cell_type": "markdown",
   "metadata": {},
   "source": [
    "# Query the data"
   ]
  },
  {
   "cell_type": "code",
   "execution_count": null,
   "metadata": {},
   "outputs": [],
   "source": [
    "# helper function for queries and printing results\n",
    "def query(query_string):\n",
    "    results = container.query_items(\n",
    "        query=query_string,\n",
    "        enable_cross_partition_query=True,\n",
    "        populate_query_metrics=True)\n",
    "    results = list(results)\n",
    "\n",
    "    print(json.dumps(results, indent=4))\n",
    "    print(\"RU charge:\", container.client_connection.last_response_headers['x-ms-request-charge'])\n",
    "    print(container.client_connection.last_response_headers['x-ms-documentdb-query-metrics'].split(\";\")[0])"
   ]
  },
  {
   "cell_type": "markdown",
   "metadata": {},
   "source": [
    "# String LENGTH Example"
   ]
  },
  {
   "cell_type": "markdown",
   "metadata": {},
   "source": [
    "**Query using `c.overview` with `LENGTH()`**"
   ]
  },
  {
   "cell_type": "code",
   "execution_count": null,
   "metadata": {},
   "outputs": [],
   "source": [
    "query_string = '''\n",
    "    SELECT c.id, c.overview\n",
    "    FROM c\n",
    "    WHERE LENGTH(c.overview) > 100\n",
    "    '''\n",
    "query(query_string)"
   ]
  },
  {
   "cell_type": "markdown",
   "metadata": {},
   "source": [
    "**Query using `c.cp_overviewLength`**"
   ]
  },
  {
   "cell_type": "code",
   "execution_count": null,
   "metadata": {},
   "outputs": [],
   "source": [
    "query_string = '''\n",
    "    SELECT c.id, c.overview\n",
    "    FROM c\n",
    "    WHERE c.cp_overviewLength > 100\n",
    "    '''\n",
    "\n",
    "query(query_string)"
   ]
  },
  {
   "cell_type": "markdown",
   "metadata": {},
   "source": [
    "# CONTAINS Example"
   ]
  },
  {
   "cell_type": "markdown",
   "metadata": {},
   "source": [
    "**Query using `c.overview` with `CONTAINS`**"
   ]
  },
  {
   "cell_type": "code",
   "execution_count": null,
   "metadata": {},
   "outputs": [],
   "source": [
    "query_string = '''\n",
    "    SELECT c.id, c.overview\n",
    "    FROM c\n",
    "    WHERE CONTAINS(c.overview, \"buzz lightyear\", true)\n",
    "    '''\n",
    "\n",
    "query(query_string)"
   ]
  },
  {
   "cell_type": "markdown",
   "metadata": {},
   "source": [
    "**Query using `c.cp_overviewLower` with `CONTAINS`**"
   ]
  },
  {
   "cell_type": "code",
   "execution_count": null,
   "metadata": {},
   "outputs": [],
   "source": [
    "query_string = '''\n",
    "    SELECT c.id, c.overview\n",
    "    FROM c\n",
    "    WHERE CONTAINS(c.cp_overviewLower, \"buzz lightyear\")\n",
    "    '''\n",
    "\n",
    "query(query_string)"
   ]
  },
  {
   "cell_type": "markdown",
   "metadata": {},
   "source": [
    "# ARRAY_LENGTH Example"
   ]
  },
  {
   "cell_type": "markdown",
   "metadata": {},
   "source": [
    "**Query using `ARRAY_LENGTH` on `c.genres`**"
   ]
  },
  {
   "cell_type": "code",
   "execution_count": null,
   "metadata": {},
   "outputs": [],
   "source": [
    "query_string = '''\n",
    "    SELECT c.id, c.overview\n",
    "    FROM c\n",
    "    WHERE ARRAY_LENGTH(c.genres) > 2\n",
    "    '''\n",
    "query(query_string)"
   ]
  },
  {
   "cell_type": "markdown",
   "metadata": {},
   "source": [
    "**Query using `c.cp_genreCount`**"
   ]
  },
  {
   "cell_type": "code",
   "execution_count": null,
   "metadata": {},
   "outputs": [],
   "source": [
    "query_string = '''\n",
    "    SELECT c.id, c.overview\n",
    "    FROM c\n",
    "    WHERE c.cp_genreCount > 2\n",
    "    '''\n",
    "query(query_string)"
   ]
  },
  {
   "cell_type": "markdown",
   "metadata": {},
   "source": [
    "# CONTCAT Example"
   ]
  },
  {
   "cell_type": "markdown",
   "metadata": {},
   "source": [
    "**Query ising `CONCAT` on multiple properties**"
   ]
  },
  {
   "cell_type": "code",
   "execution_count": null,
   "metadata": {},
   "outputs": [],
   "source": [
    "query_string = '''\n",
    "SELECT TOP 20 VALUE CONCAT(\"The movie: \", c.original_title, \" is about this: \", c.overview, \" and was released on: \", c.release_date) \n",
    "FROM c\n",
    "'''\n",
    "query(query_string)"
   ]
  },
  {
   "cell_type": "markdown",
   "metadata": {},
   "source": [
    "**Query using `c.cp_toVectorize`**"
   ]
  },
  {
   "cell_type": "code",
   "execution_count": null,
   "metadata": {},
   "outputs": [],
   "source": [
    "query_string = '''\n",
    "SELECT TOP 20 c.cp_toVectorize \n",
    "FROM c\n",
    "'''\n",
    "query(query_string)"
   ]
  }
 ],
 "metadata": {
  "kernelspec": {
   "display_name": "py311",
   "language": "python",
   "name": "python3"
  },
  "language_info": {
   "codemirror_mode": {
    "name": "ipython",
    "version": 3
   },
   "file_extension": ".py",
   "mimetype": "text/x-python",
   "name": "python",
   "nbconvert_exporter": "python",
   "pygments_lexer": "ipython3",
   "version": "3.11.0"
  }
 },
 "nbformat": 4,
 "nbformat_minor": 2
}
